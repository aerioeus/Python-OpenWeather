{
 "cells": [
  {
   "cell_type": "markdown",
   "metadata": {},
   "source": [
    "# Introduction\n",
    "\n",
    "This is a Python program which uses [OpenWeather](http://openweathermap.org/) API to access weather information and subsequently parse the JSON data. Note that to access the API in this exercise, you need to have a valid API key, which can be obtained from creating an account at [OpenWeather](http://openweathermap.org/). With the free account, the [OpenWeather](http://openweathermap.org/) allows you to have 600 API calls/10 minutes. Also note that a list of city IDs in JSON format is needed for this to work. This file is included in the github repository, otherwise it can be found at this [link](http://bulk.openweathermap.org/sample/city.list.json.gz)."
   ]
  },
  {
   "cell_type": "code",
   "execution_count": 17,
   "metadata": {
    "collapsed": true
   },
   "outputs": [],
   "source": [
    "\"\"\"\n",
    "Usage: Python-OpenWeather.py\n",
    "\n",
    "Makes API calls to OpenWeather and retrievs JSON data\n",
    "Parses JSON data using JSON library\n",
    "\n",
    "List of city ID in JSON format can be obtained from\n",
    "http://bulk.openweathermap.org/sample/\n",
    "\n",
    "Options\n",
    "_______\n",
    "\n",
    "-h or help  Displays this message\n",
    "\"\"\"\n",
    "\n",
    "import urllib\n",
    "import json\n",
    "import codecs\n",
    "from sys import argv, exit"
   ]
  },
  {
   "cell_type": "code",
   "execution_count": 18,
   "metadata": {
    "collapsed": true
   },
   "outputs": [],
   "source": [
    "#if len(argv) > 1:\n",
    "#    print(__doc__)\n",
    "#    exit(0)"
   ]
  },
  {
   "cell_type": "code",
   "execution_count": 19,
   "metadata": {
    "collapsed": true
   },
   "outputs": [],
   "source": [
    "def city():\n",
    "    city = raw_input('Enter city name: ')\n",
    "    city = city.lower()\n",
    "    print \"Retrieving weather information for %s .....\" % city\n",
    "    \n",
    "    return city"
   ]
  },
  {
   "cell_type": "code",
   "execution_count": 20,
   "metadata": {
    "collapsed": true
   },
   "outputs": [],
   "source": [
    "def citysearch(city):\n",
    "    listCities = []\n",
    "    with codecs.open('city.list.json', 'r', encoding='utf8') as cityList:\n",
    "        for cl in cityList:\n",
    "            cityJSON = json.loads(cl)\n",
    "            cityName = cityJSON['name']\n",
    "            cityName = cityName.lower()\n",
    "            if cityName == city:\n",
    "                searchCity = cityJSON\n",
    "                listCities.append(searchCity)\n",
    "    \n",
    "    cityList.close()\n",
    "\n",
    "    print \"Your search resulted in\", len(listCities), \"cities with the name %s\" % city\n",
    "\n",
    "    if len(listCities) > 1:\n",
    "\tprint \"Please refine your search and choose the ID relevant to the country\"\n",
    "        for listCity in listCities:\n",
    "\t    print \"Country: %s, \" % listCity['country'], \"ID: %s\" % listCity['_id']\n",
    "\tcityID = raw_input(\"Enter the relevant ID: \")\n",
    "\tprint \"You have entered %s\" % cityID\n",
    "   \n",
    "    elif len(listCities) == 1:\n",
    "        cityID = listCities[0]['_id']\n",
    "        print \"Country:\", listCities[0]['country']\n",
    "\n",
    "    elif len(listCities) == 0:\n",
    "        print \"Your city does not exist\"\n",
    "        exit(0)\n",
    "\n",
    "    return cityID"
   ]
  },
  {
   "cell_type": "code",
   "execution_count": 21,
   "metadata": {
    "collapsed": false
   },
   "outputs": [
    {
     "name": "stdout",
     "output_type": "stream",
     "text": [
      "Enter city name: London\n",
      "Retrieving weather information for london .....\n",
      "Your search resulted in 7 cities with the name london\n",
      "Please refine your search and choose the ID relevant to the country\n",
      "Country: GB,  ID: 2643743\n",
      "Country: US,  ID: 5056033\n",
      "Country: CA,  ID: 6058560\n",
      "Country: US,  ID: 4119617\n",
      "Country: US,  ID: 4298960\n",
      "Country: US,  ID: 4517009\n",
      "Country: US,  ID: 5367815\n",
      "Enter the relevant ID: 2643743\n",
      "You have entered 2643743\n"
     ]
    }
   ],
   "source": [
    "city = city()\n",
    "locationID = citysearch(city)"
   ]
  },
  {
   "cell_type": "code",
   "execution_count": 22,
   "metadata": {
    "collapsed": true
   },
   "outputs": [],
   "source": [
    "apikey = 'xxxxxxxxxxxxxxxxxxxxxxxxxxxxxxxx'\n",
    "serviceUrl = \"http://api.openweathermap.org/data/2.5/weather?\"\n",
    "url = serviceUrl + urllib.urlencode({'id': locationID, 'APPID': apikey})\n",
    "urlRead = urllib.urlopen(url).read()\n",
    "dataJSON = json.loads(urlRead)"
   ]
  },
  {
   "cell_type": "markdown",
   "metadata": {},
   "source": [
    "After obtaining a valid API key, please replace `xxx...` with the valid one for `apikey` variable"
   ]
  },
  {
   "cell_type": "code",
   "execution_count": 23,
   "metadata": {
    "collapsed": true
   },
   "outputs": [],
   "source": [
    "temp = float(dataJSON['main']['temp']) - 273.0\n",
    "tempMax = float(dataJSON['main']['temp_max']) - 273.0\n",
    "tempMin = float(dataJSON['main']['temp_min']) - 273.0\n",
    "humidity = int(dataJSON['main']['humidity'])\n",
    "wind = dataJSON['wind']\n",
    "windSpeed = float(dataJSON['wind']['speed'])\n",
    "condition = dataJSON['weather'][0]['description']"
   ]
  },
  {
   "cell_type": "code",
   "execution_count": 24,
   "metadata": {
    "collapsed": false
   },
   "outputs": [
    {
     "name": "stdout",
     "output_type": "stream",
     "text": [
      "\n",
      "*******************\n",
      "--Weather Summary--\n",
      "*******************\n",
      "Current Temperature: 5.53 C\n",
      "Maximum Temperature: 7.15 C\n",
      "Minimum Temperature: 4.15 C\n",
      "Humidity: 81 %\n",
      "Wind Gust: Data not available\n",
      "Wind Speed: 5.10 km/hr\n",
      "Condition: Sky is Clear\n"
     ]
    }
   ],
   "source": [
    "print \"\"\n",
    "print \"*******************\"\n",
    "print \"--Weather Summary--\"\n",
    "print \"*******************\"\n",
    "print \"Current Temperature: %.2f C\" % temp\n",
    "print \"Maximum Temperature: %.2f C\" % tempMax\n",
    "print \"Minimum Temperature: %.2f C\" % tempMin\n",
    "print \"Humidity: %d %%\" % humidity\n",
    "\n",
    "if 'gust' in wind:\n",
    "    windGust = float(dataJSON['wind']['gust'])\n",
    "    print \"Wind Gust:%s km/hr\" % windGust\n",
    "else:\n",
    "    print \"Wind Gust: Data not available\"\n",
    "\n",
    "print \"Wind Speed: %.2f km/hr\" % windSpeed\n",
    "print \"Condition: %s\" % condition"
   ]
  }
 ],
 "metadata": {
  "kernelspec": {
   "display_name": "Python 2",
   "language": "python",
   "name": "python2"
  },
  "language_info": {
   "codemirror_mode": {
    "name": "ipython",
    "version": 2
   },
   "file_extension": ".py",
   "mimetype": "text/x-python",
   "name": "python",
   "nbconvert_exporter": "python",
   "pygments_lexer": "ipython2",
   "version": "2.7.10"
  }
 },
 "nbformat": 4,
 "nbformat_minor": 0
}
